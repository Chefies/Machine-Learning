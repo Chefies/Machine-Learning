{
  "nbformat": 4,
  "nbformat_minor": 0,
  "metadata": {
    "colab": {
      "provenance": []
    },
    "kernelspec": {
      "name": "python3",
      "display_name": "Python 3"
    },
    "language_info": {
      "name": "python"
    }
  },
  "cells": [
    {
      "cell_type": "code",
      "execution_count": null,
      "metadata": {
        "id": "KLxe4C1YMjj1"
      },
      "outputs": [],
      "source": [
        "import zipfile"
      ]
    },
    {
      "cell_type": "code",
      "source": [
        "!gdown 18Z8dE7yJjNv3jiv5s4SsHpZTyg-teYBe"
      ],
      "metadata": {
        "colab": {
          "base_uri": "https://localhost:8080/"
        },
        "id": "YqIGxOc0Mo57",
        "outputId": "515c033c-2dda-476d-b729-facc4da56ac6"
      },
      "execution_count": null,
      "outputs": [
        {
          "output_type": "stream",
          "name": "stdout",
          "text": [
            "Downloading...\n",
            "From (original): https://drive.google.com/uc?id=18Z8dE7yJjNv3jiv5s4SsHpZTyg-teYBe\n",
            "From (redirected): https://drive.google.com/uc?id=18Z8dE7yJjNv3jiv5s4SsHpZTyg-teYBe&confirm=t&uuid=6e600e0c-5b90-4e5d-9ff1-0309198a1d62\n",
            "To: /content/pict.zip\n",
            "100% 47.7M/47.7M [00:01<00:00, 27.0MB/s]\n"
          ]
        }
      ]
    },
    {
      "cell_type": "code",
      "source": [
        "with zipfile.ZipFile(\"pict.zip\",\"r\") as zip_ref:\n",
        "    zip_ref.extractall()"
      ],
      "metadata": {
        "id": "itN7o3Z0MpzT"
      },
      "execution_count": null,
      "outputs": []
    },
    {
      "cell_type": "code",
      "source": [
        "%%capture\n",
        "!pip install albumentations"
      ],
      "metadata": {
        "id": "Qs04uL6lMtdz"
      },
      "execution_count": null,
      "outputs": []
    },
    {
      "cell_type": "code",
      "source": [
        "import albumentations as A\n",
        "import os\n",
        "import cv2"
      ],
      "metadata": {
        "id": "HgOV-WEBMxak"
      },
      "execution_count": null,
      "outputs": []
    },
    {
      "cell_type": "code",
      "source": [
        "transform = A.Compose([\n",
        "    A.HueSaturationValue(hue_shift_limit=0, sat_shift_limit=(-50,-10), val_shift_limit=(50,90), always_apply=True, p=0.9),\n",
        "    A.Affine(shear=180),\n",
        "    A.HorizontalFlip(p=0.5)\n",
        "])\n",
        "folder_path = '/content/'\n",
        "dest_path = '/content/img/'\n",
        "num_augmentations = 7\n",
        "\n",
        "if not os.path.exists(dest_path):\n",
        "    os.makedirs(dest_path)\n",
        "\n",
        "for filename in os.listdir(folder_path):\n",
        "    if filename.endswith('.jpg') or filename.endswith('.png'):\n",
        "        img = cv2.imread(os.path.join(folder_path, filename))\n",
        "        augmented_images = []\n",
        "        for _ in range(num_augmentations):\n",
        "            augmented = transform(image=img)\n",
        "            augmented_images.append(augmented['image'])\n",
        "        for i, augmented_img in enumerate(augmented_images):\n",
        "            cv2.imwrite(os.path.join(dest_path, 'augmented_' + str(i) + '_' + filename), augmented_img)"
      ],
      "metadata": {
        "id": "It5l3vLNMzdL"
      },
      "execution_count": null,
      "outputs": []
    },
    {
      "cell_type": "code",
      "source": [
        "!zip -r /content/pict_augmented.zip /content/img/"
      ],
      "metadata": {
        "colab": {
          "base_uri": "https://localhost:8080/"
        },
        "id": "a7qTFPf1SG1s",
        "outputId": "d3d7ac8b-f0c8-41b6-d69e-2aeeaadd1b94"
      },
      "execution_count": null,
      "outputs": [
        {
          "output_type": "stream",
          "name": "stdout",
          "text": [
            "  adding: content/img/ (stored 0%)\n",
            "  adding: content/img/augmented_2_1717161557188.jpg (deflated 0%)\n",
            "  adding: content/img/augmented_2_1717161560001.jpg (deflated 0%)\n",
            "  adding: content/img/augmented_5_1717161559132.jpg (deflated 0%)\n",
            "  adding: content/img/augmented_1_1717161559973.jpg (deflated 0%)\n",
            "  adding: content/img/augmented_2_1717161559132.jpg (deflated 0%)\n",
            "  adding: content/img/augmented_6_1717161559132.jpg (deflated 0%)\n",
            "  adding: content/img/augmented_4_1717161559132.jpg (deflated 0%)\n",
            "  adding: content/img/augmented_6_1717161558941.jpg (deflated 0%)\n",
            "  adding: content/img/augmented_2_1717161558941.jpg (deflated 0%)\n",
            "  adding: content/img/augmented_5_1717161560001.jpg (deflated 1%)\n",
            "  adding: content/img/augmented_3_1717161559132.jpg (deflated 0%)\n",
            "  adding: content/img/augmented_3_1717161558941.jpg (deflated 0%)\n",
            "  adding: content/img/augmented_2_1717161559940.jpg (deflated 0%)\n",
            "  adding: content/img/augmented_6_1717161559940.jpg (deflated 0%)\n",
            "  adding: content/img/augmented_3_1717161559794.jpg (deflated 0%)\n",
            "  adding: content/img/augmented_0_1717161558992.jpg (deflated 0%)\n",
            "  adding: content/img/augmented_3_1717161560001.jpg (deflated 0%)\n",
            "  adding: content/img/augmented_4_1717161559973.jpg (deflated 0%)\n",
            "  adding: content/img/augmented_5_1717161559794.jpg (deflated 0%)\n",
            "  adding: content/img/augmented_4_1717161559077.jpg (deflated 0%)\n",
            "  adding: content/img/augmented_6_1717161558992.jpg (deflated 0%)\n",
            "  adding: content/img/augmented_2_1717161559973.jpg (deflated 0%)\n",
            "  adding: content/img/augmented_4_1717161560001.jpg (deflated 0%)\n",
            "  adding: content/img/augmented_0_1717161559497.jpg (deflated 0%)\n",
            "  adding: content/img/augmented_0_1717161558941.jpg (deflated 0%)\n",
            "  adding: content/img/augmented_4_1717161558992.jpg (deflated 0%)\n",
            "  adding: content/img/augmented_1_1717161558941.jpg (deflated 0%)\n",
            "  adding: content/img/augmented_1_1717161559794.jpg (deflated 0%)\n",
            "  adding: content/img/augmented_5_1717161557820.jpg (deflated 0%)\n",
            "  adding: content/img/augmented_2_1717161559497.jpg (deflated 0%)\n",
            "  adding: content/img/augmented_1_1717161560321.jpg (deflated 0%)\n",
            "  adding: content/img/augmented_6_1717161557820.jpg (deflated 0%)\n",
            "  adding: content/img/augmented_5_1717161559077.jpg (deflated 0%)\n",
            "  adding: content/img/augmented_6_1717161559077.jpg (deflated 0%)\n",
            "  adding: content/img/augmented_4_1717161559794.jpg (deflated 0%)\n",
            "  adding: content/img/augmented_4_1717161559497.jpg (deflated 0%)\n",
            "  adding: content/img/augmented_6_1717161557188.jpg (deflated 0%)\n",
            "  adding: content/img/augmented_0_1717161559132.jpg (deflated 0%)\n",
            "  adding: content/img/augmented_1_1717161560001.jpg (deflated 0%)\n",
            "  adding: content/img/augmented_6_1717161559794.jpg (deflated 0%)\n",
            "  adding: content/img/augmented_3_1717161557820.jpg (deflated 0%)\n",
            "  adding: content/img/augmented_5_1717161560321.jpg (deflated 0%)\n",
            "  adding: content/img/augmented_2_1717161559077.jpg (deflated 0%)\n",
            "  adding: content/img/augmented_4_1717161559940.jpg (deflated 0%)\n",
            "  adding: content/img/augmented_5_1717161558941.jpg (deflated 0%)\n",
            "  adding: content/img/augmented_2_1717161560321.jpg (deflated 0%)\n",
            "  adding: content/img/augmented_0_1717161559973.jpg (deflated 0%)\n",
            "  adding: content/img/augmented_6_1717161560321.jpg (deflated 0%)\n",
            "  adding: content/img/augmented_1_1717161557820.jpg (deflated 0%)\n",
            "  adding: content/img/augmented_1_1717161559132.jpg (deflated 0%)\n",
            "  adding: content/img/augmented_5_1717161557188.jpg (deflated 0%)\n",
            "  adding: content/img/augmented_3_1717161559077.jpg (deflated 0%)\n",
            "  adding: content/img/augmented_0_1717161560001.jpg (deflated 0%)\n",
            "  adding: content/img/augmented_3_1717161559940.jpg (deflated 0%)\n",
            "  adding: content/img/augmented_4_1717161558941.jpg (deflated 0%)\n",
            "  adding: content/img/augmented_3_1717161559497.jpg (deflated 0%)\n",
            "  adding: content/img/augmented_1_1717161558992.jpg (deflated 0%)\n",
            "  adding: content/img/augmented_2_1717161559794.jpg (deflated 0%)\n",
            "  adding: content/img/augmented_3_1717161559973.jpg (deflated 0%)\n",
            "  adding: content/img/augmented_6_1717161559973.jpg (deflated 0%)\n",
            "  adding: content/img/augmented_1_1717161559940.jpg (deflated 0%)\n",
            "  adding: content/img/augmented_4_1717161557188.jpg (deflated 0%)\n",
            "  adding: content/img/augmented_0_1717161559794.jpg (deflated 1%)\n",
            "  adding: content/img/augmented_6_1717161560001.jpg (deflated 0%)\n",
            "  adding: content/img/augmented_3_1717161560321.jpg (deflated 0%)\n",
            "  adding: content/img/augmented_5_1717161559973.jpg (deflated 0%)\n",
            "  adding: content/img/augmented_1_1717161559497.jpg (deflated 0%)\n",
            "  adding: content/img/augmented_5_1717161559497.jpg (deflated 0%)\n",
            "  adding: content/img/augmented_1_1717161559077.jpg (deflated 0%)\n",
            "  adding: content/img/augmented_0_1717161559077.jpg (deflated 0%)\n",
            "  adding: content/img/augmented_0_1717161559940.jpg (deflated 1%)\n",
            "  adding: content/img/augmented_2_1717161558992.jpg (deflated 0%)\n",
            "  adding: content/img/augmented_3_1717161557188.jpg (deflated 0%)\n",
            "  adding: content/img/augmented_5_1717161558992.jpg (deflated 0%)\n",
            "  adding: content/img/augmented_5_1717161559940.jpg (deflated 0%)\n",
            "  adding: content/img/augmented_3_1717161558992.jpg (deflated 0%)\n",
            "  adding: content/img/augmented_6_1717161559497.jpg (deflated 0%)\n",
            "  adding: content/img/augmented_0_1717161557188.jpg (deflated 0%)\n",
            "  adding: content/img/augmented_0_1717161557820.jpg (deflated 0%)\n",
            "  adding: content/img/augmented_0_1717161560321.jpg (deflated 0%)\n",
            "  adding: content/img/augmented_1_1717161557188.jpg (deflated 0%)\n",
            "  adding: content/img/augmented_4_1717161557820.jpg (deflated 0%)\n",
            "  adding: content/img/augmented_4_1717161560321.jpg (deflated 0%)\n",
            "  adding: content/img/augmented_2_1717161557820.jpg (deflated 0%)\n"
          ]
        }
      ]
    },
    {
      "cell_type": "code",
      "source": [
        "from google.colab import files\n",
        "files.download(\"/content/pict_augmented.zip\")"
      ],
      "metadata": {
        "colab": {
          "base_uri": "https://localhost:8080/",
          "height": 34
        },
        "id": "LbLCvU3oWTEV",
        "outputId": "8c1e8a62-1375-4cd0-a289-bb2b7c36a7c7"
      },
      "execution_count": null,
      "outputs": [
        {
          "output_type": "display_data",
          "data": {
            "text/plain": [
              "<IPython.core.display.Javascript object>"
            ],
            "application/javascript": [
              "\n",
              "    async function download(id, filename, size) {\n",
              "      if (!google.colab.kernel.accessAllowed) {\n",
              "        return;\n",
              "      }\n",
              "      const div = document.createElement('div');\n",
              "      const label = document.createElement('label');\n",
              "      label.textContent = `Downloading \"${filename}\": `;\n",
              "      div.appendChild(label);\n",
              "      const progress = document.createElement('progress');\n",
              "      progress.max = size;\n",
              "      div.appendChild(progress);\n",
              "      document.body.appendChild(div);\n",
              "\n",
              "      const buffers = [];\n",
              "      let downloaded = 0;\n",
              "\n",
              "      const channel = await google.colab.kernel.comms.open(id);\n",
              "      // Send a message to notify the kernel that we're ready.\n",
              "      channel.send({})\n",
              "\n",
              "      for await (const message of channel.messages) {\n",
              "        // Send a message to notify the kernel that we're ready.\n",
              "        channel.send({})\n",
              "        if (message.buffers) {\n",
              "          for (const buffer of message.buffers) {\n",
              "            buffers.push(buffer);\n",
              "            downloaded += buffer.byteLength;\n",
              "            progress.value = downloaded;\n",
              "          }\n",
              "        }\n",
              "      }\n",
              "      const blob = new Blob(buffers, {type: 'application/binary'});\n",
              "      const a = document.createElement('a');\n",
              "      a.href = window.URL.createObjectURL(blob);\n",
              "      a.download = filename;\n",
              "      div.appendChild(a);\n",
              "      a.click();\n",
              "      div.remove();\n",
              "    }\n",
              "  "
            ]
          },
          "metadata": {}
        },
        {
          "output_type": "display_data",
          "data": {
            "text/plain": [
              "<IPython.core.display.Javascript object>"
            ],
            "application/javascript": [
              "download(\"download_95d3731f-9f50-4abd-a3a7-53dc9e0e0031\", \"pict_augmented.zip\", 304163272)"
            ]
          },
          "metadata": {}
        }
      ]
    }
  ]
}